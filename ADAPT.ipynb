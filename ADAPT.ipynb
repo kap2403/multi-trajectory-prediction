{
 "cells": [
  {
   "cell_type": "markdown",
   "metadata": {},
   "source": [
    "# Creating Dataset"
   ]
  },
  {
   "cell_type": "code",
   "execution_count": 16,
   "metadata": {},
   "outputs": [],
   "source": [
    "import numpy as np\n",
    "import matplotlib.pyplot as plt\n",
    "import math\n",
    "import torch\n",
    "from torch import nn, Tensor\n",
    "from torch.utils.data import Dataset, DataLoader\n",
    "from torch.nn import TransformerEncoder, TransformerEncoderLayer\n",
    "import torch.nn.functional as F\n",
    "from scipy.optimize import linear_sum_assignment"
   ]
  },
  {
   "cell_type": "code",
   "execution_count": 17,
   "metadata": {},
   "outputs": [],
   "source": [
    "def out_plots(gt, pred):\n",
    "    gt = gt.detach().numpy()\n",
    "    pred = pred.detach().numpy()\n",
    "    \n",
    "    fig, ax = plt.subplots(nrows=1, ncols=2)\n",
    "\n",
    "    plt.subplot(1,2,1)\n",
    "    for i, trajectory in enumerate(gt):\n",
    "        x = trajectory[:, 0]  # Extract x positions\n",
    "        y = trajectory[:, 1]  # Extract y positions\n",
    "        plt.title(\"ground_truth_trajectories\")\n",
    "        plt.legend()\n",
    "        plt.grid(True)\n",
    "        plt.plot(x, y)\n",
    "\n",
    "    plt.subplot(1,2,2)\n",
    "    for i, trajectory in enumerate(pred):\n",
    "        x = trajectory[:, 0]  # Extract x positions\n",
    "        y = trajectory[:, 1]  # Extract y positions\n",
    "        plt.title(\"Predicted_trajectories\")\n",
    "        plt.legend()\n",
    "        plt.grid(True)\n",
    "        plt.plot(x, y)\n",
    "    \n",
    "    plt.show()"
   ]
  },
  {
   "cell_type": "code",
   "execution_count": 18,
   "metadata": {},
   "outputs": [],
   "source": [
    "def generate_trajectory(speed, steering_angle):\n",
    "  # Initialize state variables\n",
    "  x = 0.0  # initial x position\n",
    "  y = 0.0  # initial y position\n",
    "  theta = 0.0  # initial heading direction (facing along the x-axis)\n",
    "\n",
    "  L = 2.5  # wheelbase of the vehicle (distance between front and rear axle)\n",
    "\n",
    "  # Simulation settings\n",
    "  dt = 0.1  # time step in seconds\n",
    "  total_time = 2\n",
    "  # Number of timesteps (excluding the last one for consistency)\n",
    "  num_steps = int(total_time / dt)\n",
    "\n",
    "  # Initialize a single NumPy array to store (x, y) pairs\n",
    "  trajectory = np.zeros((num_steps, 2))\n",
    "\n",
    "  thet = np.deg2rad(steering_angle)\n",
    "\n",
    "  # Simulation loop\n",
    "  for i in range(num_steps):\n",
    "    # Update the vehicle's state\n",
    "    x += speed * np.cos(theta) * dt\n",
    "    y += speed * np.sin(theta) * dt\n",
    "    theta += speed * np.tan(thet) / L * dt\n",
    "\n",
    "    # Store positions in the trajectory array\n",
    "    trajectory[i, 0] = x\n",
    "    trajectory[i, 1] = y\n",
    "\n",
    "  return trajectory\n",
    "\n",
    "def generate_data(speed):\n",
    "    angles = np.arange(-10, 10, 4)\n",
    "    all_trajs = []\n",
    "    for angle in angles:\n",
    "        trajectory = generate_trajectory(speed,angle)\n",
    "        all_trajs.append(trajectory)\n",
    "    return speed, all_trajs\n",
    "\n",
    "def save_trajectories(x = 0, y = 50, z = 1):\n",
    "    speeds = np.arange(x, y , z)\n",
    "    all_data = {\"state\" : [], \"trajectory\" : []}\n",
    "    for current_speed in speeds:\n",
    "        speed, all_trajs = generate_data(current_speed)\n",
    "        state = np.array([0,0,current_speed,1])\n",
    "        all_data[\"state\"].append(state)\n",
    "        all_data[\"trajectory\"].append(all_trajs)\n",
    "    return all_data\n",
    "\n",
    "def process_data(data):\n",
    "    states = []\n",
    "    trajectories = []\n",
    "\n",
    "    for state, trajs in zip(data[\"state\"], data[\"trajectory\"]):\n",
    "        states.append(state)\n",
    "        trajectories.append(trajs)\n",
    "    \n",
    "    return np.array(states), np.array(trajectories)"
   ]
  },
  {
   "cell_type": "code",
   "execution_count": 19,
   "metadata": {},
   "outputs": [],
   "source": [
    "output = save_trajectories(1,40,0.1)\n",
    "speeds, trajectories = process_data(output)"
   ]
  },
  {
   "cell_type": "code",
   "execution_count": 20,
   "metadata": {},
   "outputs": [],
   "source": [
    "class TrajectoryDataset(Dataset):\n",
    "    def __init__(self, speeds, trajectories):\n",
    "        self.speeds = speeds\n",
    "        self.trajectories = trajectories\n",
    "\n",
    "    def __len__(self):\n",
    "        return len(self.speeds)\n",
    "\n",
    "    def __getitem__(self, idx):\n",
    "        speed = self.speeds[idx]\n",
    "        trajectory = self.trajectories[idx]\n",
    "        return torch.tensor(speed, dtype=torch.float32).unsqueeze(dim = 0), torch.tensor(trajectory, dtype=torch.float32).unsqueeze(dim = 0)"
   ]
  },
  {
   "cell_type": "code",
   "execution_count": 21,
   "metadata": {},
   "outputs": [],
   "source": [
    "# Processed data\n",
    "speeds, trajectories = process_data(output)\n",
    "# Create the dataset and dataloaders\n",
    "dataset = TrajectoryDataset(speeds, trajectories )"
   ]
  },
  {
   "cell_type": "code",
   "execution_count": 22,
   "metadata": {},
   "outputs": [],
   "source": [
    "train_size = int(0.8 * len(dataset))\n",
    "test_size = len(dataset) - train_size\n",
    "train_dataset, test_dataset = torch.utils.data.random_split(dataset, [train_size, test_size])"
   ]
  },
  {
   "cell_type": "code",
   "execution_count": 23,
   "metadata": {},
   "outputs": [],
   "source": [
    "train_loader = DataLoader(train_dataset, batch_size=1, shuffle=True)\n",
    "val_loader = DataLoader(test_dataset, batch_size=1, shuffle=False)"
   ]
  },
  {
   "cell_type": "code",
   "execution_count": 24,
   "metadata": {},
   "outputs": [
    {
     "data": {
      "text/plain": [
       "312"
      ]
     },
     "execution_count": 24,
     "metadata": {},
     "output_type": "execute_result"
    }
   ],
   "source": [
    "len(train_loader)"
   ]
  },
  {
   "cell_type": "code",
   "execution_count": 25,
   "metadata": {},
   "outputs": [
    {
     "data": {
      "text/plain": [
       "78"
      ]
     },
     "execution_count": 25,
     "metadata": {},
     "output_type": "execute_result"
    }
   ],
   "source": [
    "len(val_loader)"
   ]
  },
  {
   "cell_type": "code",
   "execution_count": 26,
   "metadata": {},
   "outputs": [
    {
     "data": {
      "text/plain": [
       "tensor([[0., 0., 1., 1.]])"
      ]
     },
     "execution_count": 26,
     "metadata": {},
     "output_type": "execute_result"
    }
   ],
   "source": [
    "dataset[0][0]"
   ]
  },
  {
   "cell_type": "code",
   "execution_count": null,
   "metadata": {},
   "outputs": [],
   "source": []
  },
  {
   "cell_type": "code",
   "execution_count": 27,
   "metadata": {},
   "outputs": [],
   "source": [
    "class MLP(nn.Module):\n",
    "    def __init__(self, input_dim, output_dim, p_drop=0.0, hidden_dim=None, residual=False):\n",
    "        super(MLP, self).__init__()\n",
    "\n",
    "        if hidden_dim is None:\n",
    "            hidden_dim = input_dim\n",
    "\n",
    "        layer2_dim = hidden_dim\n",
    "        if residual:\n",
    "            layer2_dim = hidden_dim + input_dim\n",
    "\n",
    "        self.residual = residual\n",
    "        self.layer1 = nn.Linear(input_dim, hidden_dim)\n",
    "        self.layer2 = nn.Linear(layer2_dim, output_dim)\n",
    "        self.dropout1 = nn.Dropout(p=p_drop)\n",
    "        self.dropout2 = nn.Dropout(p=p_drop)\n",
    "\n",
    "        self.norm = nn.LayerNorm(hidden_dim)\n",
    "\n",
    "    def forward(self, x):\n",
    "        out = self.layer1(x)\n",
    "        out = self.norm(out)\n",
    "        out = F.relu(out)\n",
    "        out = self.dropout1(out)\n",
    "        if self.residual:\n",
    "            out = self.layer2(torch.cat([out, x], dim=-1))\n",
    "        else:\n",
    "            out = self.layer2(out)\n",
    "\n",
    "        out = self.dropout2(out)\n",
    "        return out\n"
   ]
  },
  {
   "cell_type": "code",
   "execution_count": 28,
   "metadata": {},
   "outputs": [],
   "source": [
    "class Trajectory_Decoder(nn.Module):\n",
    "    def __init__(self):\n",
    "        super(Trajectory_Decoder, self).__init__()\n",
    "\n",
    "        hidden_size = 128\n",
    "\n",
    "        self.endpoint_predictor = MLP(hidden_size , 20*2, residual=True)\n",
    "        self.get_trajectory = MLP(hidden_size + 2, 19*2, residual=True)\n",
    "        self.endpoint_refiner = MLP(hidden_size + 2, 2, residual=True)\n",
    "        self.get_prob = MLP(hidden_size + 2, 1, residual=True)\n",
    "\n",
    "    def forward(self, agent_features):\n",
    "  \n",
    "        N = agent_features.shape[0]\n",
    "        M = agent_features.shape[1]\n",
    "        D = agent_features.shape[2]\n",
    "\n",
    "\n",
    "        endpoints = self.endpoint_predictor(agent_features).view(N, M, 20, 2)\n",
    "\n",
    "        # prediction_features.shape = (N, M, 6, 128)\n",
    "        agent_features = agent_features.unsqueeze(dim=2).expand(N, M, 20, D)\n",
    "        # meta_info_input.shape = (N, M, 6, 128 + 5)\n",
    "        # agent_features = torch.cat([agent_features, meta_info_tensor_k], dim=-1)\n",
    "\n",
    "        # offsets.shape = (N, M, 6, 2)\n",
    "        offsets = self.endpoint_refiner(torch.cat([agent_features, endpoints.detach()], dim=-1))\n",
    "        endpoints += offsets\n",
    "\n",
    "        # agent_features.shape = (N, M, 6, 128 + 5 + 2)\n",
    "        agent_features = torch.cat([agent_features, endpoints.detach()], dim=-1)\n",
    "\n",
    "        predictions = self.get_trajectory(agent_features).view(N, M, 20, 19, 2)\n",
    "        logits = self.get_prob(agent_features).view(N, M, 20)\n",
    "\n",
    "        predictions = torch.cat([predictions, endpoints.unsqueeze(dim=-2)], dim=-2)\n",
    "\n",
    "        assert predictions.shape == (N, M, 20, 20, 2)\n",
    "\n",
    "        return predictions, logits"
   ]
  },
  {
   "cell_type": "code",
   "execution_count": 29,
   "metadata": {},
   "outputs": [],
   "source": [
    "class ADAPT(nn.Module):\n",
    "    def __init__(self):\n",
    "        super(ADAPT, self).__init__()\n",
    "        self.input_mlp = MLP(4, 128, p_drop=0.0, hidden_dim=None, residual=False)\n",
    "        self.encoder = nn.TransformerEncoderLayer(d_model=128, nhead=8)\n",
    "        self.decoder = Trajectory_Decoder()\n",
    "\n",
    "    def forward(self,x):\n",
    "        input_emb = self.input_mlp(x)\n",
    "        agent_features = self.encoder(input_emb)\n",
    "        trajs, probs = self.decoder(agent_features)\n",
    "        return trajs, probs"
   ]
  },
  {
   "cell_type": "code",
   "execution_count": 30,
   "metadata": {},
   "outputs": [],
   "source": [
    "model = ADAPT()"
   ]
  },
  {
   "cell_type": "code",
   "execution_count": 31,
   "metadata": {},
   "outputs": [],
   "source": [
    "class Trajectory_Loss(nn.Module):\n",
    "    def __init__(self, args):\n",
    "        super(Trajectory_Loss, self).__init__()\n",
    "\n",
    "    def forward(self, prediction, log_prob, valid, label):\n",
    "        device = prediction.device\n",
    "        loss_ = 0\n",
    "\n",
    "        M = prediction.shape[0]\n",
    "        # norms.shape = (M_c, 6)\n",
    "        norms = torch.norm(prediction[:, :, -1] - label[:, -1].unsqueeze(dim=1), dim=-1)\n",
    "        # best_ids.shape = (M_c)\n",
    "        best_ids = torch.argmin(norms, dim=-1)\n",
    "\n",
    "        # === L_reg ===\n",
    "        # l_reg.shape = (M_c, T_f, 2)\n",
    "        l_reg = F.smooth_l1_loss(prediction[torch.arange(M, device=device), best_ids], label, reduction=\"none\")\n",
    "        l_reg = (l_reg*valid).sum()/(valid.sum()*2)\n",
    "        loss_ += l_reg\n",
    "        # === === ===\n",
    "\n",
    "        # === L_cls ===\n",
    "        loss_ += F.nll_loss(log_prob, best_ids)\n",
    "        # === === ===\n",
    "\n",
    "        # === L_end ===\n",
    "        loss_ += F.smooth_l1_loss(prediction[torch.arange(M, device=device), best_ids, -1], label[:, -1], reduction=\"mean\")\n",
    "        # === === ===\n",
    "\n",
    "        return loss_"
   ]
  },
  {
   "cell_type": "code",
   "execution_count": 32,
   "metadata": {},
   "outputs": [],
   "source": [
    "import torch\n",
    "import torch.nn as nn\n",
    "from scipy.optimize import linear_sum_assignment\n",
    "\n",
    "class Loss(nn.Module):\n",
    "    def __init__(self):\n",
    "        super(Loss, self).__init__()\n",
    "        self.l1_loss = F.smooth_l1_loss\n",
    "        self.cls_loss = F.cross_entropy\n",
    "    def forward(self, predicted_trajs, ground_truth_trajs, predicted_probs):\n",
    "        M = ground_truth_trajs.shape[2]\n",
    "        N = predicted_trajs.shape[2]\n",
    "        gt_probabilities = np.zeros(N)\n",
    "\n",
    "        cost_matrix = torch.zeros(M, N)\n",
    "        # Compute the cost matrix\n",
    "        for i in range(M):\n",
    "            for j in range(N):\n",
    "                cost_matrix[i, j] = self.l1_loss(ground_truth_trajs[0, 0, i], predicted_trajs[0, 0, j]).mean()\n",
    "        \n",
    "        # Convert cost matrix to numpy for linear_sum_assignment\n",
    "        cost_matrix_np = cost_matrix.detach().numpy()\n",
    "\n",
    "        # Solve the assignment problem\n",
    "        row_ind, col_ind = linear_sum_assignment(cost_matrix_np)\n",
    "\n",
    "        final_loss = 0\n",
    "        # Compute the final loss\n",
    "        for i in range(len(row_ind)):\n",
    "            final_loss += self.l1_loss(ground_truth_trajs[0, 0, row_ind[i]], predicted_trajs[0, 0, col_ind[i]]).mean()\n",
    "        \n",
    "        final_loss /= len(row_ind)\n",
    "\n",
    "        # probability loss\n",
    "        for i in range(len(gt_probabilities)):\n",
    "            if i in col_ind:\n",
    "                gt_probabilities[i] = 1\n",
    "\n",
    "            else:\n",
    "                gt_probabilities[i] = 0\n",
    "        \n",
    "        gt_probabilities_tensor = torch.tensor(gt_probabilities)\n",
    "\n",
    "        final_loss += F.cross_entropy(gt_probabilities_tensor.view(1,1,N) , predicted_probs)\n",
    "\n",
    "        return final_loss\n"
   ]
  },
  {
   "cell_type": "code",
   "execution_count": 33,
   "metadata": {},
   "outputs": [
    {
     "name": "stdout",
     "output_type": "stream",
     "text": [
      "Epoch 1/10, Loss: 3.1800177097320557\n",
      "Epoch 2/10, Loss: 0.5762575268745422\n",
      "Epoch 3/10, Loss: 2.7734885215759277\n",
      "Epoch 4/10, Loss: 4.1085991859436035\n",
      "Epoch 5/10, Loss: 0.2113029509782791\n",
      "Epoch 6/10, Loss: 1.3902053833007812\n",
      "Epoch 7/10, Loss: 0.44073396921157837\n",
      "Epoch 8/10, Loss: 0.25006183981895447\n",
      "Epoch 9/10, Loss: 0.5528782606124878\n",
      "Epoch 10/10, Loss: 0.18573519587516785\n"
     ]
    }
   ],
   "source": [
    "# Initialize the custom loss function\n",
    "criterion = Loss()\n",
    "optimizer = torch.optim.Adam(model.parameters(), lr=0.001)\n",
    "\n",
    "# Training loop\n",
    "def train_model(model, train_loader, criterion, optimizer, num_epochs):\n",
    "    model.train()\n",
    "    for epoch in range(num_epochs):\n",
    "        for inputs, targets in train_loader:\n",
    "            optimizer.zero_grad()\n",
    "            trajs, probs = model(inputs)\n",
    "            loss = criterion(trajs, targets,probs)\n",
    "            loss.backward()\n",
    "            optimizer.step()\n",
    "        print(f\"Epoch {epoch+1}/{num_epochs}, Loss: {loss.item()}\")\n",
    "\n",
    "num_epochs = 10\n",
    "train_model(model, train_loader, criterion, optimizer, num_epochs)"
   ]
  },
  {
   "cell_type": "code",
   "execution_count": 20,
   "metadata": {},
   "outputs": [],
   "source": [
    "dataset = TrajectoryDataset(speeds, trajectories )\n",
    "train_loader = DataLoader(train_dataset, batch_size=1, shuffle=True)\n",
    "val_loader = DataLoader(test_dataset, batch_size=1, shuffle=False)"
   ]
  },
  {
   "cell_type": "code",
   "execution_count": 48,
   "metadata": {},
   "outputs": [
    {
     "name": "stderr",
     "output_type": "stream",
     "text": [
      "C:\\Users\\dlqdeqy\\AppData\\Local\\Temp\\ipykernel_17664\\1306317867.py:12: UserWarning: No artists with labels found to put in legend.  Note that artists whose label start with an underscore are ignored when legend() is called with no argument.\n",
      "  plt.legend()\n",
      "C:\\Users\\dlqdeqy\\AppData\\Local\\Temp\\ipykernel_17664\\1306317867.py:21: UserWarning: No artists with labels found to put in legend.  Note that artists whose label start with an underscore are ignored when legend() is called with no argument.\n",
      "  plt.legend()\n"
     ]
    },
    {
     "data": {
      "image/png": "[encoded data removed]",
      "text/plain": [
       "<Figure size 640x480 with 2 Axes>"
      ]
     },
     "metadata": {},
     "output_type": "display_data"
    }
   ],
   "source": [
    "val_loader = DataLoader(test_dataset, batch_size=1, shuffle=True)\n",
    "model.eval()\n",
    "for i,j in val_loader:\n",
    "    x,y = model(i)\n",
    "    break\n",
    "out_plots(x[0][0], j[0][0])"
   ]
  },
  {
   "cell_type": "code",
   "execution_count": 37,
   "metadata": {},
   "outputs": [],
   "source": [
    "y =  y.detach().numpy()\n",
    "x = x.detach().numpy()\n",
    "for i in range(20):\n",
    "    if y[0][0][i] >= 1:\n",
    "        trajectory = x[0][0][i]\n",
    "        a = trajectory[:, 0]  # Extract x positions\n",
    "        b = trajectory[:, 1]\n",
    "        plt.plot(a,b)\n",
    "plt.show()\n",
    "         "
   ]
  },
  {
   "cell_type": "code",
   "execution_count": null,
   "metadata": {},
   "outputs": [],
   "source": []
  }
 ],
 "metadata": {
  "kernelspec": {
   "display_name": "base",
   "language": "python",
   "name": "python3"
  },
  "language_info": {
   "codemirror_mode": {
    "name": "ipython",
    "version": 3
   },
   "file_extension": ".py",
   "mimetype": "text/x-python",
   "name": "python",
   "nbconvert_exporter": "python",
   "pygments_lexer": "ipython3",
   "version": "3.11.9"
  }
 },
 "nbformat": 4,
 "nbformat_minor": 2
}
